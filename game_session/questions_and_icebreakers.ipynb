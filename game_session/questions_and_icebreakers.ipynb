{
 "cells": [
  {
   "cell_type": "markdown",
   "id": "14e2b1d1",
   "metadata": {
    "jp-MarkdownHeadingCollapsed": true,
    "tags": []
   },
   "source": [
    "##### **may need to pip install**"
   ]
  },
  {
   "cell_type": "code",
   "execution_count": 4,
   "id": "37de2abe",
   "metadata": {
    "scrolled": true,
    "tags": [
     "hide-cell"
    ]
   },
   "outputs": [
    {
     "name": "stdout",
     "output_type": "stream",
     "text": [
      "Collecting sphinx-togglebutton\n",
      "  Using cached sphinx_togglebutton-0.3.2-py3-none-any.whl (8.2 kB)\n",
      "Collecting docutils\n",
      "  Using cached docutils-0.20.1-py3-none-any.whl (572 kB)\n",
      "Requirement already satisfied: setuptools in /opt/conda/lib/python3.9/site-packages (from sphinx-togglebutton) (62.3.2)\n",
      "Requirement already satisfied: wheel in /opt/conda/lib/python3.9/site-packages (from sphinx-togglebutton) (0.37.1)\n",
      "Collecting sphinx\n",
      "  Using cached sphinx-7.2.5-py3-none-any.whl (3.2 MB)\n",
      "Requirement already satisfied: sphinxcontrib-jsmath in /opt/conda/lib/python3.9/site-packages (from sphinx->sphinx-togglebutton) (1.0.1)\n",
      "Requirement already satisfied: requests>=2.25.0 in /opt/conda/lib/python3.9/site-packages (from sphinx->sphinx-togglebutton) (2.26.0)\n",
      "Requirement already satisfied: packaging>=21.0 in /opt/conda/lib/python3.9/site-packages (from sphinx->sphinx-togglebutton) (23.1)\n",
      "Collecting imagesize>=1.3\n",
      "  Using cached imagesize-1.4.1-py2.py3-none-any.whl (8.8 kB)\n",
      "Collecting Pygments>=2.14\n",
      "  Using cached Pygments-2.16.1-py3-none-any.whl (1.2 MB)\n",
      "Requirement already satisfied: sphinxcontrib-qthelp in /opt/conda/lib/python3.9/site-packages (from sphinx->sphinx-togglebutton) (1.0.6)\n",
      "Requirement already satisfied: snowballstemmer>=2.0 in /opt/conda/lib/python3.9/site-packages (from sphinx->sphinx-togglebutton) (2.2.0)\n",
      "Collecting alabaster<0.8,>=0.7\n",
      "  Using cached alabaster-0.7.13-py3-none-any.whl (13 kB)\n",
      "Requirement already satisfied: Jinja2>=3.0 in /home/ubuntu/.local/lib/python3.9/site-packages (from sphinx->sphinx-togglebutton) (3.1.2)\n",
      "Requirement already satisfied: sphinxcontrib-htmlhelp>=2.0.0 in /opt/conda/lib/python3.9/site-packages (from sphinx->sphinx-togglebutton) (2.0.4)\n",
      "Requirement already satisfied: importlib-metadata>=4.8 in /opt/conda/lib/python3.9/site-packages (from sphinx->sphinx-togglebutton) (4.11.4)\n",
      "Requirement already satisfied: sphinxcontrib-devhelp in /opt/conda/lib/python3.9/site-packages (from sphinx->sphinx-togglebutton) (1.0.5)\n",
      "Requirement already satisfied: sphinxcontrib-serializinghtml>=1.1.9 in /opt/conda/lib/python3.9/site-packages (from sphinx->sphinx-togglebutton) (1.1.9)\n",
      "Requirement already satisfied: babel>=2.9 in /opt/conda/lib/python3.9/site-packages (from sphinx->sphinx-togglebutton) (2.10.1)\n",
      "Requirement already satisfied: sphinxcontrib-applehelp in /opt/conda/lib/python3.9/site-packages (from sphinx->sphinx-togglebutton) (1.0.7)\n",
      "Requirement already satisfied: pytz>=2015.7 in /opt/conda/lib/python3.9/site-packages (from babel>=2.9->sphinx->sphinx-togglebutton) (2022.1)\n",
      "Requirement already satisfied: zipp>=0.5 in /opt/conda/lib/python3.9/site-packages (from importlib-metadata>=4.8->sphinx->sphinx-togglebutton) (3.8.0)\n",
      "Requirement already satisfied: MarkupSafe>=2.0 in /home/ubuntu/.local/lib/python3.9/site-packages (from Jinja2>=3.0->sphinx->sphinx-togglebutton) (2.1.1)\n",
      "Requirement already satisfied: certifi>=2017.4.17 in /opt/conda/lib/python3.9/site-packages (from requests>=2.25.0->sphinx->sphinx-togglebutton) (2022.5.18.1)\n",
      "Requirement already satisfied: charset-normalizer~=2.0.0 in /opt/conda/lib/python3.9/site-packages (from requests>=2.25.0->sphinx->sphinx-togglebutton) (2.0.4)\n",
      "Requirement already satisfied: idna<4,>=2.5 in /opt/conda/lib/python3.9/site-packages (from requests>=2.25.0->sphinx->sphinx-togglebutton) (3.2)\n",
      "Requirement already satisfied: urllib3<1.27,>=1.21.1 in /opt/conda/lib/python3.9/site-packages (from requests>=2.25.0->sphinx->sphinx-togglebutton) (1.26.6)\n",
      "Installing collected packages: Pygments, imagesize, docutils, alabaster, sphinx, sphinx-togglebutton\n",
      "  Attempting uninstall: Pygments\n",
      "    Found existing installation: Pygments 2.12.0\n",
      "    Uninstalling Pygments-2.12.0:\n",
      "      Successfully uninstalled Pygments-2.12.0\n",
      "Successfully installed Pygments-2.16.1 alabaster-0.7.13 docutils-0.20.1 imagesize-1.4.1 sphinx-7.2.5 sphinx-togglebutton-0.3.2\n",
      "Note: you may need to restart the kernel to use updated packages.\n"
     ]
    }
   ],
   "source": [
    "%pip install --user sphinx-togglebutton"
   ]
  },
  {
   "cell_type": "markdown",
   "id": "df7ef5ef",
   "metadata": {
    "tags": []
   },
   "source": [
    "# Questions and Ice Breakers\n",
    "#### The *how* behind questions and the *why* behind ice breakers"
   ]
  },
  {
   "cell_type": "markdown",
   "id": "01daca8a",
   "metadata": {},
   "source": [
    "## Table of Contents\n",
    "\n",
    "1. [Gametime](#Gametime)\n",
    "2. [The Value of Ice Breakers](#The-Value-of-Ice-Breakers) <br>\n",
    "    i. [Purposes](#Purposes) <br>\n",
    "    ii. [Types](#Types) <br>\n",
    "    iii. [List of Ice Breakers](#List-of-Ice-Breakers)\n",
    "3. [Costa's Levels of Questions](#Costa's-Levels-of-Questions)"
   ]
  },
  {
   "cell_type": "markdown",
   "id": "6b9b2434",
   "metadata": {
    "tags": []
   },
   "source": [
    "## Gametime\n",
    "\n",
    "***Instructions:*** \n",
    ">Person A flips a card (by opening a hidden cell) and says what the picture is. Person B has 3 seconds to say a word that starts with the last letter of the word said by Person A. Person C has 3 seconds to say a word that starts with the last letter of the word said by Person B. You cannot repeat a previously-said word. This repeats until someone messes up.\n",
    "\n",
    ">For example, if Person A says *stapler*. Then Person B could say *ridge*, and Person C could say *eggplant*. Etc."
   ]
  },
  {
   "cell_type": "markdown",
   "id": "503a7ca2",
   "metadata": {
    "jp-MarkdownHeadingCollapsed": true,
    "tags": []
   },
   "source": [
    "#### Card 1"
   ]
  },
  {
   "cell_type": "markdown",
   "id": "d63dabca",
   "metadata": {},
   "source": [
    "<img src=\"images/corn.jpg\">"
   ]
  },
  {
   "cell_type": "markdown",
   "id": "74b7f324",
   "metadata": {
    "jp-MarkdownHeadingCollapsed": true,
    "tags": []
   },
   "source": [
    "#### Card 2"
   ]
  },
  {
   "cell_type": "markdown",
   "id": "e5a3232e",
   "metadata": {},
   "source": [
    "<img src=\"images/wave.jpg\">"
   ]
  },
  {
   "cell_type": "markdown",
   "id": "a91e46e7",
   "metadata": {
    "jp-MarkdownHeadingCollapsed": true,
    "tags": []
   },
   "source": [
    "#### Card 3"
   ]
  },
  {
   "cell_type": "markdown",
   "id": "87562140",
   "metadata": {},
   "source": [
    "<img src=\"images/lamp.jpg\">"
   ]
  },
  {
   "cell_type": "markdown",
   "id": "864a99ec",
   "metadata": {
    "jp-MarkdownHeadingCollapsed": true,
    "tags": []
   },
   "source": [
    "#### Card 4"
   ]
  },
  {
   "cell_type": "markdown",
   "id": "a3162539",
   "metadata": {},
   "source": [
    "<img src=\"images/flower.jpg\">"
   ]
  },
  {
   "cell_type": "markdown",
   "id": "c07f271c",
   "metadata": {
    "jp-MarkdownHeadingCollapsed": true,
    "tags": []
   },
   "source": [
    "#### Card 5"
   ]
  },
  {
   "cell_type": "markdown",
   "id": "8b4da7a2",
   "metadata": {},
   "source": [
    "<img src=\"images/lion.jpg\">"
   ]
  },
  {
   "cell_type": "markdown",
   "id": "22d53d01",
   "metadata": {
    "jp-MarkdownHeadingCollapsed": true,
    "tags": []
   },
   "source": [
    "#### Card 6"
   ]
  },
  {
   "cell_type": "markdown",
   "id": "198b2316",
   "metadata": {},
   "source": [
    "<img src=\"images/lake.jpg\">"
   ]
  },
  {
   "cell_type": "markdown",
   "id": "a7f91277",
   "metadata": {
    "jp-MarkdownHeadingCollapsed": true,
    "tags": []
   },
   "source": [
    "#### Card 7"
   ]
  },
  {
   "cell_type": "markdown",
   "id": "a5c89fa0",
   "metadata": {},
   "source": [
    "<img src=\"images/boat.jpg\">"
   ]
  },
  {
   "cell_type": "markdown",
   "id": "245c2b1e",
   "metadata": {
    "jp-MarkdownHeadingCollapsed": true,
    "tags": []
   },
   "source": [
    "#### Card 8"
   ]
  },
  {
   "cell_type": "markdown",
   "id": "8894b2a6",
   "metadata": {},
   "source": [
    "<img src=\"images/guitar.jpg\">"
   ]
  },
  {
   "cell_type": "markdown",
   "id": "29d88cd2",
   "metadata": {
    "jp-MarkdownHeadingCollapsed": true,
    "tags": []
   },
   "source": [
    "#### Card 9"
   ]
  },
  {
   "cell_type": "markdown",
   "id": "8ef20345",
   "metadata": {},
   "source": [
    "<img src=\"images/bridge.jpg\">"
   ]
  },
  {
   "cell_type": "markdown",
   "id": "5e439063",
   "metadata": {
    "tags": []
   },
   "source": [
    "## The Value of Ice Breakers"
   ]
  },
  {
   "cell_type": "markdown",
   "id": "14062526",
   "metadata": {},
   "source": [
    "### Purposes\n",
    "*Ice breakers can be used to bring people together so that they can work as* ***one cohesive unit***. *There are several important aspects that enable this cohesion, including building* ***connections*** *and building* ***trust***. "
   ]
  },
  {
   "cell_type": "markdown",
   "id": "6e108f56",
   "metadata": {},
   "source": [
    "<img src=\"images/icebreaker_value.png\" alt=\"centered image\" width=\"400\">"
   ]
  },
  {
   "cell_type": "markdown",
   "id": "ff748539",
   "metadata": {},
   "source": [
    "### Types\n",
    "*What are you trying to accomplish? Each type of ice breaker is best for accomplishing a slightly different goal*"
   ]
  },
  {
   "cell_type": "markdown",
   "id": "100f0137",
   "metadata": {},
   "source": [
    "<table>\n",
    "    <tr>\n",
    "        <td style=\"text-align: center;\"><strong> Interaction </strong></td>\n",
    "        <td> Allows teammates to <em><strong>engage</em></strong> with each other </td>       \n",
    "    </tr>\n",
    "    <tr>\n",
    "        <td style=\"text-align: center;\"><strong> Sharing </strong></td>\n",
    "        <td> Allows teammates to <em><strong> share information</em></strong> with each other </td>\n",
    "    </tr>\n",
    "    <tr>\n",
    "        <td style=\"text-align: center;\"><strong> Team Building </strong></td>\n",
    "        <td> Allows teammates to <em><strong>collaborate</em></strong> to accomplish something </td>\n",
    "    </tr>\n",
    "</table>"
   ]
  },
  {
   "cell_type": "markdown",
   "id": "afc64cb4",
   "metadata": {},
   "source": [
    "*What kinds of tools do you have to carry out an ice breaker? (In person/remote)*"
   ]
  },
  {
   "cell_type": "markdown",
   "id": "34529b0a",
   "metadata": {},
   "source": [
    "### List of Ice Breakers\n",
    "*Feel free to use this list as a resource! If you are leading an event and want to encourage cohesion among particpants, you can pull from this curated list of ice breakers instead of needing to research one. Think about which ice breaker will help you accomplish your goal (e.g. finding similarities? building trust?)*\n",
    "\n",
    "**Interaction Ice Breakers:**\n",
    "- Life Raft\n",
    "    - Group size: 3 - 25 \n",
    "    - Time needed: 5 - 15 min \n",
    "    - Instructions: \n",
    "        >Put a sheet of paper on the ground- this is the \"raft.\" Let all the participants \"swim\" around the room. Once you shout *Shark!* everyone tries to step on the raft. Anyone who doesn't get their foot on part of the paper is out. Cut the paper in half, leave only one half on the gound, and play again. Repeat as many times as wanted.\n",
    "- Label on Back  \n",
    "    - Group size: 3 - 50\n",
    "    - Time needed: 10 - 30 min \n",
    "    - Instructions: \n",
    "        >Put a label on each person's back. The label should have a famous person or character on it. E.g. *Michael Jackson*. Each person talks to other people to figure out the label on their back. Once they figure out what's on their label, they can move it to their front. Then, they are given a new label on their back. Whoever collects the most labels by the end wins.\n",
    "- What are you Doing? \n",
    "    - Group size: 3 - 30\n",
    "    - Time needed: 10 - 30 min \n",
    "    - Instructions: \n",
    "        >Person A mimes an action. Person B asks *What are you doing?* Person A responds with an action that they are not doing. Person A stops miming, and Person B starts miming the action Person A said. This continues until time's up. E.g. Person A may start \"rowing a boat.\" Person B asks *What are you doing?*, and Person A says *fishing*. Person A then stops miming, and Person B starts \"fishing.\" Person C asks *What are you doing?*, and Person B says *cooking*. Etc. \n",
    "\n",
    "**Sharing Ice Breakers:** \n",
    "- Music Impressions\n",
    "    - Group size: 7 - 50\n",
    "    - Time needed: 5 - 15 min \n",
    "    - Instructions: \n",
    "        > Play part of a song and have each person write down 5 words to describe it. Have everyone go around the room and match up with people who wrote down the same or similar wor(s.) Repeat as many times as desired. \n",
    "- Matching\n",
    "    - Group size: 3 - 30 \n",
    "    - Time needed: 10 - 15 min \n",
    "    - Instructions: \n",
    "        >Before the session, have each person tell you something unique about themselves or an interesting experience they have had. E.g. *I have hiked Pikes Peak* or *I have moved 5 times in a year*. At the start of the ice breaker, give each person a list of these unique things. Have each person write down *who* they guess goes with *what*. The person who gets the most names correct wins.\n",
    "\n",
    "**Team Building Ice Breakers:**\n",
    "- Group Juggle \n",
    "    - Group size: 7 - 20 \n",
    "    - Time needed: 10 - 20 min \n",
    "    - Instructions: \n",
    "        > Have 4 to 10 objects tucked in your pockets. Take one object out of your pocket and toss it to someone. Instruct them to say their name (or some other fact such as where they are from or their favorite place to vacation) then to toss the object to someone else. This new person then answers the same question and tosses the object to someone new. Repeat until everyone has been tossed the object once, and the object is returned to you. Now toss it back to the first person. Have them toss it to the second person, and the second person toss it to the third person, etc. Once the pattern has been going for a little bit, toss the first person a second object and instruct them to keep the pattern with this object too. Then, when ready, a third object. Repeat with as many objects as desired. \n",
    "- Straw & Paperclip\n",
    "    - Group size: 8 - 24\n",
    "    - Time needed: 10 - 30 min \n",
    "    - Instructions: \n",
    "        > Divide people into groups. Give each group a box of straws and a box of paperclips. It's best if the paperclips can fit snuggly into the end of the straws. Tell each group to build something (e.g. a bridge, a skyscraper). \n",
    "- Alphabet Game\n",
    "    - Group size: 12 - 60 \n",
    "    - Time needed: 12 - 30 min \n",
    "    - Instructions: \n",
    "        > Decide on a phrase. Give each person a letter. Tell people to group together to form words. Once each peron is grouped into a \"word,\" tell the words to group together to form a phrase. If their phrase is different from the one that you curated, tell them the original phrase. \n",
    "\n",
    "*Ice breakers sourced from [Ice Breakers, Introductions, Energizers,\n",
    "And Other Experiential Exercises](https://www.albany.edu/cpr/gf/resources/Icebreakers-and-Introductions.htm)*"
   ]
  },
  {
   "cell_type": "markdown",
   "id": "11760194",
   "metadata": {
    "tags": []
   },
   "source": [
    "## Costa's Levels of Questions\n",
    "*This method is used as a guide to cultivating questions that drive growth*\n",
    "\n",
    "Art Costa, an educational researcher, formulated these question levels. Each level accomplishes soemthing slightly different. Being able to identify the type of question being asked and being able to ask questions in each level reflects several skillsets, including the ability to: \n",
    "- transform information \n",
    "- identify areas of growth \n",
    "- solve problems"
   ]
  },
  {
   "cell_type": "markdown",
   "id": "4ef257ec",
   "metadata": {},
   "source": [
    "<img src=\"images/costas_detailed.png\"><p style=\"text-align:center;\"><small>Image sourced from [What Are Costa's Levels Of Questioning?](https://www.teachthought.com/education/costas-levels-of-questioning/) "
   ]
  },
  {
   "cell_type": "markdown",
   "id": "42f6b7fa",
   "metadata": {},
   "source": [
    "***Exercise:*** \n",
    "> Divide into groups. Each group is assigned a level (1, 2, or 3). Given a topic, each group produces a question at their assigned level.\n",
    "Groups can share. Each group is assigned a new level. Repeat until each group has had a chance to work with each level."
   ]
  },
  {
   "cell_type": "markdown",
   "id": "3c7c8b59",
   "metadata": {},
   "source": [
    "*back to [top](#Questions-and-Ice-Breakers)*"
   ]
  }
 ],
 "metadata": {
  "kernelspec": {
   "display_name": "Python 3",
   "language": "python",
   "name": "python3"
  },
  "language_info": {
   "codemirror_mode": {
    "name": "ipython",
    "version": 3
   },
   "file_extension": ".py",
   "mimetype": "text/x-python",
   "name": "python",
   "nbconvert_exporter": "python",
   "pygments_lexer": "ipython3",
   "version": "3.8.8"
  }
 },
 "nbformat": 4,
 "nbformat_minor": 5
}
